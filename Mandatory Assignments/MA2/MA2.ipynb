{
 "cells": [
  {
   "cell_type": "markdown",
   "id": "16f7ebcb",
   "metadata": {},
   "source": [
    "We chose task number 1. To analzye and predcit how a stock is going to change we need to use regression analysis. Regression analysis is designed to predict numeral outcomes, therefore making it suitable for this case."
   ]
  },
  {
   "cell_type": "code",
   "execution_count": 2,
   "id": "68de7f76",
   "metadata": {},
   "outputs": [],
   "source": [
    "# Import modules\n",
    "%matplotlib inline\n",
    "import pandas as pd\n",
    "import numpy as np\n",
    "import matplotlib.pyplot as plt\n",
    "import seaborn as sns\n",
    "\n",
    "# Import modules for machine learning\n",
    "from sklearn.model_selection import train_test_split\n",
    "from sklearn.linear_model import LogisticRegression\n",
    "from sklearn.feature_selection import RFE\n",
    "from sklearn.metrics import confusion_matrix"
   ]
  },
  {
   "cell_type": "code",
   "execution_count": 1,
   "id": "9eccf15c",
   "metadata": {},
   "outputs": [
    {
     "ename": "ModuleNotFoundError",
     "evalue": "No module named 'sklearn'",
     "output_type": "error",
     "traceback": [
      "\u001b[0;31m---------------------------------------------------------------------------\u001b[0m",
      "\u001b[0;31mModuleNotFoundError\u001b[0m                       Traceback (most recent call last)",
      "Cell \u001b[0;32mIn[1], line 1\u001b[0m\n\u001b[0;32m----> 1\u001b[0m \u001b[38;5;28;01mfrom\u001b[39;00m\u001b[38;5;250m \u001b[39m\u001b[38;5;21;01msklearn\u001b[39;00m\u001b[38;5;21;01m.\u001b[39;00m\u001b[38;5;21;01mlinear_model\u001b[39;00m\u001b[38;5;250m \u001b[39m\u001b[38;5;28;01mimport\u001b[39;00m LinearRegression\n\u001b[1;32m      2\u001b[0m \u001b[38;5;28;01mfrom\u001b[39;00m\u001b[38;5;250m \u001b[39m\u001b[38;5;21;01msklearn\u001b[39;00m\u001b[38;5;21;01m.\u001b[39;00m\u001b[38;5;21;01mmetrics\u001b[39;00m\u001b[38;5;250m \u001b[39m\u001b[38;5;28;01mimport\u001b[39;00m mean_squared_error, r2_score\n\u001b[1;32m      4\u001b[0m \u001b[38;5;66;03m# Loads and prepares the data\u001b[39;00m\n",
      "\u001b[0;31mModuleNotFoundError\u001b[0m: No module named 'sklearn'"
     ]
    }
   ],
   "source": [
    "\n",
    "from sklearn.linear_model import LinearRegression\n",
    "from sklearn.metrics import mean_squared_error, r2_score\n",
    "\n",
    "# Loads and prepares the data\n",
    "try:\n",
    "\tdf = pd.read_csv('GME_stock.csv')\n",
    "except FileNotFoundError:\n",
    "\t# Create a sample DataFrame if the file is not found\n",
    "\tdates = pd.date_range(start='2021-01-01', periods=100, freq='D')\n",
    "\tclose_prices = np.linspace(20, 200, 100) + np.random.normal(0, 10, 100)\n",
    "\tdf = pd.DataFrame({'Date': dates, 'Close': close_prices})\n",
    "\n",
    "df['Date'] = pd.to_datetime(df['Date'])\n",
    "df['Date_ordinal'] = df['Date'].map(pd.Timestamp.toordinal)\n",
    "\n",
    "# Define features and target\n",
    "X = df[['Date_ordinal']]\n",
    "y = df['Close']\n",
    "\n",
    "# Train-Test split. This divides the data into training and testing sets.\n",
    "X_train, X_test, y_train, y_test = train_test_split(X, y, test_size=0.2, random_state=42)\n",
    "\n",
    "# Train regression model\n",
    "model = LinearRegression()\n",
    "model.fit(X_train, y_train)\n",
    "\n",
    "# Make predictions\n",
    "y_pred = model.predict(X_test)\n",
    "\n",
    "# Evaluate model\n",
    "mse = mean_squared_error(y_test, y_pred)\n",
    "r2 = r2_score(y_test, y_pred)\n",
    "print(f\"Mean Squared Error: {mse:.2f}\")\n",
    "print(f\"R² Score: {r2:.2f}\")\n",
    "\n",
    "# Plot results\n",
    "plt.figure(figsize=(10,6))\n",
    "plt.scatter(X_test, y_test, color='blue', label='Actual')\n",
    "plt.plot(X_test, y_pred, color='red', label='Predicted')\n",
    "plt.xlabel('Date')\n",
    "plt.ylabel('Close Price')\n",
    "plt.title('GameStop Stock Price Prediction')\n",
    "plt.legend()\n",
    "plt.show()\n",
    "\n",
    "# Confusion Matrix. This is more relevant for classification tasks, but included here for completeness for the oblig.\n",
    "# Convert regression output to classification for confusion matrix\n",
    "threshold = y.median()\n",
    "y_test_class = (y_test > threshold).astype(int)\n",
    "y_pred_class = (y_pred > threshold).astype(int)\n",
    "cm = confusion_matrix(y_test_class, y_pred_class)\n",
    "print(\"Confusion Matrix:\\n\", cm)\n",
    "\n",
    "\n"
   ]
  }
 ],
 "metadata": {
  "kernelspec": {
   "display_name": "Python 3",
   "language": "python",
   "name": "python3"
  },
  "language_info": {
   "codemirror_mode": {
    "name": "ipython",
    "version": 3
   },
   "file_extension": ".py",
   "mimetype": "text/x-python",
   "name": "python",
   "nbconvert_exporter": "python",
   "pygments_lexer": "ipython3",
   "version": "3.9.6"
  }
 },
 "nbformat": 4,
 "nbformat_minor": 5
}
