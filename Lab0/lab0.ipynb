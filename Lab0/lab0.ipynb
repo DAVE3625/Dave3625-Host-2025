{
 "cells": [
  {
   "cell_type": "markdown",
   "id": "ed87d256",
   "metadata": {},
   "source": [
    "Task 1: \"Hello World!\""
   ]
  },
  {
   "cell_type": "code",
   "execution_count": 15,
   "id": "c81cda11",
   "metadata": {},
   "outputs": [
    {
     "name": "stdout",
     "output_type": "stream",
     "text": [
      "Hello world!\n"
     ]
    }
   ],
   "source": [
    "print(\"Hello world!\")"
   ]
  },
  {
   "cell_type": "markdown",
   "id": "5fa64e96",
   "metadata": {},
   "source": [
    "Task 2: Basic Arithmetic"
   ]
  },
  {
   "cell_type": "code",
   "execution_count": 2,
   "id": "48c6153f",
   "metadata": {},
   "outputs": [
    {
     "name": "stdout",
     "output_type": "stream",
     "text": [
      "5 + 3 =  8\n",
      "4 * 7 =  28\n",
      "10 / 2 =  5.0\n"
     ]
    }
   ],
   "source": [
    "# Add two numbers\n",
    "print(\"5 + 3 = \", 5 + 3)\n",
    "\n",
    "# Multiply two numbers\n",
    "print(\"4 * 7 = \", 4 * 7)\n",
    "\n",
    "# Devide a number \n",
    "print(\"10 / 2 = \", 10 / 2)"
   ]
  },
  {
   "cell_type": "markdown",
   "id": "6b780576",
   "metadata": {},
   "source": [
    "Task 3: Variables"
   ]
  },
  {
   "cell_type": "code",
   "execution_count": 3,
   "id": "605443b8",
   "metadata": {},
   "outputs": [
    {
     "name": "stdout",
     "output_type": "stream",
     "text": [
      "Name: Jens\n",
      "Age: 29\n",
      "Name: Sapphire\n",
      "Age: 100\n"
     ]
    }
   ],
   "source": [
    "name = \"Jens\"\n",
    "age = 29\n",
    "print(\"Name:\", name)\n",
    "print(\"Age:\", age)\n",
    "\n",
    "\n",
    "name = \"Sapphire\"\n",
    "age = 100\n",
    "print(\"Name:\", name)\n",
    "print(\"Age:\", age)\n",
    "\n"
   ]
  },
  {
   "cell_type": "markdown",
   "id": "93372b18",
   "metadata": {},
   "source": [
    "Task 4: Simple Loops"
   ]
  },
  {
   "cell_type": "code",
   "execution_count": 4,
   "id": "a17228d0",
   "metadata": {},
   "outputs": [
    {
     "name": "stdout",
     "output_type": "stream",
     "text": [
      "This is line number 0\n",
      "This is line number 1\n",
      "This is line number 2\n",
      "This is line number 3\n",
      "This is line number 4\n",
      "This is line number 5\n",
      "This is line number 6\n",
      "This is line number 7\n",
      "This is line number 8\n",
      "This is line number 9\n"
     ]
    }
   ],
   "source": [
    "for i in range(10):\n",
    "    print(\"This is line number\", i)"
   ]
  },
  {
   "cell_type": "markdown",
   "id": "5fe963c0",
   "metadata": {},
   "source": [
    "Task 5: Conditional Statements"
   ]
  },
  {
   "cell_type": "code",
   "execution_count": 5,
   "id": "f508726a",
   "metadata": {},
   "outputs": [
    {
     "name": "stdout",
     "output_type": "stream",
     "text": [
      "The number is greater than 5\n"
     ]
    }
   ],
   "source": [
    "number = 10\n",
    "if number > 5:\n",
    "    print(\"The number is greater than 5\")\n",
    "else:\n",
    "    print(\"the number is not greater than 5\")\n",
    "    "
   ]
  },
  {
   "cell_type": "markdown",
   "id": "8fbefcd5",
   "metadata": {},
   "source": [
    "Task 6: Match-Case Statements"
   ]
  },
  {
   "cell_type": "code",
   "execution_count": 6,
   "id": "6a0217d1",
   "metadata": {},
   "outputs": [
    {
     "name": "stdout",
     "output_type": "stream",
     "text": [
      "Midweek already!\n",
      "Day tested: Wednesday\n",
      "\n"
     ]
    }
   ],
   "source": [
    "day = \"Wednesday\"\n",
    "\n",
    "match day:\n",
    "    case \"Monday\":\n",
    "        print(\"Start of the work week!\")\n",
    "    case \"Wednesday\":\n",
    "        print(\"Midweek already!\")\n",
    "    case \"Friday\":\n",
    "        print(\"Almost weekend!\")\n",
    "    case \"Saturday\" | \"Sunday\":\n",
    "        print(\"Weekend time!\")\n",
    "    case _:\n",
    "        print(\"Just another day\")\n",
    "\n",
    "print(f\"Day tested: {day}\")\n",
    "print()"
   ]
  },
  {
   "cell_type": "markdown",
   "id": "e23b53fc",
   "metadata": {},
   "source": [
    "Task 6: Bonus"
   ]
  },
  {
   "cell_type": "code",
   "execution_count": 14,
   "id": "013e2c15",
   "metadata": {},
   "outputs": [
    {
     "name": "stdout",
     "output_type": "stream",
     "text": [
      "\n",
      "--- Interactive Test ---\n",
      "Monday -> Start of the work week!\n",
      "tuesday -> Start of the work week!\n",
      "WEDNESDAY -> Midweek already!\n",
      "Friday -> Midweek already!\n",
      "Saturday -> Weekend time!\n",
      "sunday -> Weekend time!\n",
      "Thursday -> Weekend time!\n"
     ]
    }
   ],
   "source": [
    "print(\"\\n--- Interactive Test ---\")\n",
    "test_days = [\"Monday\", \"tuesday\", \"WEDNESDAY\", \"Friday\", \"Saturday\", \"sunday\", \"Thursday\"]\n",
    "for test_day in test_days:\n",
    "    match test_day.lower():\n",
    "        case \"monday\":\n",
    "            result = \"Start of the work week!\"\n",
    "        case \"wednesday\":\n",
    "            result = \"Midweek already!\"\n",
    "        case \"friday\":\n",
    "            rsult = \"Almost weekend!\"\n",
    "        case \"saturday\" | \"Sunday\":\n",
    "            result = \"Weekend time!\"\n",
    "        case _:\n",
    "            rsult = \"Just another day\"\n",
    "\n",
    "    print(f\"{test_day} -> {result}\")\n"
   ]
  }
 ],
 "metadata": {
  "kernelspec": {
   "display_name": "Python 3",
   "language": "python",
   "name": "python3"
  },
  "language_info": {
   "codemirror_mode": {
    "name": "ipython",
    "version": 3
   },
   "file_extension": ".py",
   "mimetype": "text/x-python",
   "name": "python",
   "nbconvert_exporter": "python",
   "pygments_lexer": "ipython3",
   "version": "3.11.9"
  }
 },
 "nbformat": 4,
 "nbformat_minor": 5
}
